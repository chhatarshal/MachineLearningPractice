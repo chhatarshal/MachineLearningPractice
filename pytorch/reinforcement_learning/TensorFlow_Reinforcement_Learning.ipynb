{
 "cells": [
  {
   "cell_type": "code",
   "execution_count": 1,
   "metadata": {
    "id": "pDUNk8AiUjOA"
   },
   "outputs": [],
   "source": [
    "import argparse\r\n",
    "import gym\r\n",
    "import numpy as np\r\n",
    "from itertools import count\r\n",
    "from collections import namedtuple\r\n",
    "\r\n",
    "import torch\r\n",
    "import torch.nn as nn\r\n",
    "import torch.nn.functional as F\r\n",
    "import torch.optim as optim\r\n",
    "from torch.distributions import Categorical"
   ]
  },
  {
   "cell_type": "code",
   "execution_count": 2,
   "metadata": {
    "id": "Jk1bb3Zy6dIw"
   },
   "outputs": [],
   "source": [
    "from collections import namedtuple"
   ]
  },
  {
   "cell_type": "code",
   "execution_count": 3,
   "metadata": {
    "id": "qxi04n7K6YPw"
   },
   "outputs": [],
   "source": [
    "SavedAction = namedtuple('SavedAction', ['log_prob', 'value'])\r\n",
    "gamma = 0.99"
   ]
  },
  {
   "cell_type": "code",
   "execution_count": 4,
   "metadata": {
    "id": "OuNrZg5mydtl"
   },
   "outputs": [],
   "source": [
    "class Network222(nn.Module):\r\n",
    "  def __init__(self):\r\n",
    "    super(Network222, self).__init__()\r\n",
    "    self.clayer = nn.Linear(4, 128)\r\n",
    "\r\n",
    "    self.ahead = nn.Linear(128, 2)\r\n",
    "\r\n",
    "    self.chead = nn.Linear(128, 1)\r\n",
    "\r\n",
    "    self.saved_actions = []\r\n",
    "    self.rewards = []\r\n",
    "\r\n",
    "  def forward(self, state):\r\n",
    "    x = F.relu(self.clayer(state))\r\n",
    "   # print('== forward == ', x)\r\n",
    "    probs = F.softmax(self.ahead(x), dim=-1)\r\n",
    "    #print('==probs== ', probs)\r\n",
    "    value = self.chead(x)\r\n",
    "    return probs, value"
   ]
  },
  {
   "cell_type": "code",
   "execution_count": 13,
   "metadata": {
    "id": "ftXLv9t70rCJ"
   },
   "outputs": [],
   "source": [
    "env = gym.make('CartPole-v0')"
   ]
  },
  {
   "cell_type": "code",
   "execution_count": null,
   "metadata": {
    "id": "pagg8gbg1ukE"
   },
   "outputs": [],
   "source": []
  },
  {
   "cell_type": "code",
   "execution_count": null,
   "metadata": {
    "id": "y8PRw9S319og"
   },
   "outputs": [],
   "source": []
  },
  {
   "cell_type": "code",
   "execution_count": 14,
   "metadata": {
    "id": "YG6k9h3x2HOC"
   },
   "outputs": [],
   "source": [
    "def select_action(state):\r\n",
    " # print('debuging----')\r\n",
    "#  print(state)\r\n",
    "  state = torch.from_numpy(state).float()\r\n",
    "  #print(state)\r\n",
    "  probs, state_value = model(state)\r\n",
    "  #print(probs)\r\n",
    "  m = Categorical(probs)\r\n",
    "  #print(m)\r\n",
    "  action = m.sample()\r\n",
    "  model.saved_actions.append(SavedAction(m.log_prob(action), state_value))\r\n",
    "  return action.item()\r\n"
   ]
  },
  {
   "cell_type": "code",
   "execution_count": 15,
   "metadata": {
    "id": "dycSbvscDX49"
   },
   "outputs": [],
   "source": [
    "def select_action2(state):\r\n",
    "    state = torch.from_numpy(state).float()\r\n",
    "    #to_device(state, device)\r\n",
    "    probs, state_value = model(state)\r\n",
    "\r\n",
    "    # create a categorical distribution over the list of probabilities of actions\r\n",
    "    m = Categorical(probs)\r\n",
    "\r\n",
    "    # and sample an action using the distribution\r\n",
    "    action = m.sample()\r\n",
    "\r\n",
    "    # save to action buffer\r\n",
    "    model.saved_actions.append(SavedAction(m.log_prob(action), state_value))\r\n",
    "\r\n",
    "    # the action to take (left or right)\r\n",
    "    return action.item()"
   ]
  },
  {
   "cell_type": "code",
   "execution_count": 16,
   "metadata": {
    "id": "hUaff3uQFrHJ"
   },
   "outputs": [],
   "source": [
    "class Policy(nn.Module):\r\n",
    "    \"\"\"\r\n",
    "    implements both actor and critic in one model\r\n",
    "    \"\"\"\r\n",
    "    def __init__(self):\r\n",
    "      \r\n",
    "        super(Policy, self).__init__()\r\n",
    "        self.affine1 = nn.Linear(4, 128)\r\n",
    "\r\n",
    "         # actor's layer\r\n",
    "        self.layer2 = nn.Linear(128, 128)\r\n",
    "        # actor's layer\r\n",
    "        self.action_head = nn.Linear(128, 2)\r\n",
    "\r\n",
    "        # critic's layer\r\n",
    "        self.value_head = nn.Linear(128, 1)\r\n",
    "\r\n",
    "        # action & reward buffer\r\n",
    "        self.saved_actions = []\r\n",
    "        self.rewards = []\r\n",
    "\r\n",
    "    def forward(self, x):\r\n",
    "        \"\"\"\r\n",
    "        forward of both actor and critic\r\n",
    "        \"\"\"\r\n",
    "       # to_device(x, device)\r\n",
    "        print(x)\r\n",
    "        x = F.relu(self.affine1(x))\r\n",
    "        x = F.relu(self.layer2(x))\r\n",
    "\r\n",
    "        # actor: choses action to take from state s_t \r\n",
    "        # by returning probability of each action\r\n",
    "        action_prob = F.softmax(self.action_head(x), dim=-1)\r\n",
    "\r\n",
    "        # critic: evaluates being in the state s_t\r\n",
    "        state_values = self.value_head(x)\r\n",
    "\r\n",
    "        # return values for both actor and critic as a tuple of 2 values:\r\n",
    "        # 1. a list with the probability of each action over the action space\r\n",
    "        # 2. the value from state s_t \r\n",
    "        return action_prob, state_values"
   ]
  },
  {
   "cell_type": "code",
   "execution_count": 17,
   "metadata": {
    "id": "9nVynC7vCDyY"
   },
   "outputs": [],
   "source": [
    "def getReturns():\r\n",
    "    R = 0\r\n",
    "    returns = [] # list to save the true values\r\n",
    "\r\n",
    "    # calculate the true value using rewards returned from the environment\r\n",
    "    # \r\n",
    "    for r in model.rewards[::-1]:\r\n",
    "        # calculate the discounted value\r\n",
    "        R = r + gamma * R\r\n",
    "        returns.insert(0, R)\r\n",
    "\r\n",
    "    returns = torch.tensor(returns)\r\n",
    "    returns = (returns - returns.mean()) / (returns.std() + eps)\r\n",
    "    return returns"
   ]
  },
  {
   "cell_type": "code",
   "execution_count": 18,
   "metadata": {
    "id": "ixkSF3EgF24q"
   },
   "outputs": [],
   "source": [
    "model = Policy()\r\n",
    "eps = np.finfo(np.float32).eps.item()\r\n",
    "optimizer = optim.Adam(model.parameters(), lr=3e-2)"
   ]
  },
  {
   "cell_type": "code",
   "execution_count": 19,
   "metadata": {
    "id": "pB9PmsHe234X"
   },
   "outputs": [],
   "source": [
    "def learn():\r\n",
    "  R = 0\r\n",
    "  saved_actions = model.saved_actions\r\n",
    "  policy_losses = []\r\n",
    "  value_losses = []\r\n",
    "  returns = getReturns()\r\n",
    "    \r\n",
    "  # Normalize\r\n",
    "  returns = torch.tensor(returns)\r\n",
    "  returns = (returns - returns.mean()) / (returns.std() + eps)\r\n",
    "\r\n",
    "  for (prob, value), r in zip(saved_actions, returns):\r\n",
    "    advance = r - value.item()\r\n",
    "\r\n",
    "    policy_losses.append(-prob*advance)\r\n",
    "    value_losses.append(F.smooth_l1_loss(value, torch.tensor([r])))\r\n",
    "  optimizer.zero_grad()\r\n",
    "  loss = torch.stack(policy_losses).sum() + torch.stack(value_losses).sum()\r\n",
    "  loss.backward()\r\n",
    "  optimizer.step()\r\n",
    "\r\n",
    "  del model.rewards[:]\r\n",
    "  del model.saved_actions[:]   \r\n",
    "\r\n"
   ]
  },
  {
   "cell_type": "code",
   "execution_count": 20,
   "metadata": {
    "id": "w-feCGGkChh0"
   },
   "outputs": [],
   "source": [
    "def finish_episode():\r\n",
    "    \"\"\"\r\n",
    "    Training code. Calculates actor and critic loss and performs backprop.\r\n",
    "    \"\"\"\r\n",
    "    R = 0\r\n",
    "    saved_actions = model.saved_actions\r\n",
    "    policy_losses = [] # list to save actor (policy) loss\r\n",
    "    value_losses = [] # list to save critic (value) loss\r\n",
    "    returns = getReturns()\r\n",
    "   # print('1...')\r\n",
    "   # print(returns)\r\n",
    "    i1 = 0\r\n",
    "    for (log_prob, value), R in zip(saved_actions, returns):\r\n",
    "        advantage = R - value.item()\r\n",
    "       # if i1 == 0: \r\n",
    "          #  print('2...')\r\n",
    "         #   print(log_prob, value, R)\r\n",
    "       # i1 = i1 + 1\r\n",
    "        # calculate actor (policy) loss \r\n",
    "        policy_losses.append(-log_prob * advantage)\r\n",
    "\r\n",
    "        # calculate critic (value) loss using L1 smooth loss\r\n",
    "        value_losses.append(F.smooth_l1_loss(value, torch.tensor([R])))\r\n",
    "\r\n",
    "    # reset gradients\r\n",
    "    optimizer.zero_grad()\r\n",
    "\r\n",
    "    # sum up all the values of policy_losses and value_losses\r\n",
    "    loss = torch.stack(policy_losses).sum() + torch.stack(value_losses).sum()\r\n",
    "\r\n",
    "    # perform backprop\r\n",
    "    loss.backward()\r\n",
    "    optimizer.step()\r\n",
    "\r\n",
    "    # reset rewards and action buffer\r\n",
    "    del model.rewards[:]\r\n",
    "    del model.saved_actions[:]"
   ]
  },
  {
   "cell_type": "code",
   "execution_count": 21,
   "metadata": {
    "colab": {
     "base_uri": "https://localhost:8080/",
     "height": 454
    },
    "id": "yR8x2-tD49pC",
    "outputId": "2b965d13-6732-4492-e706-33310fb20966"
   },
   "outputs": [
    {
     "name": "stdout",
     "output_type": "stream",
     "text": [
      "tensor([-0.0235, -0.0475, -0.0303, -0.0095])\n",
      "Episode 0\tLast reward: 0.00\tAverage reward: 9.50\n",
      "tensor([-0.0245, -0.2422, -0.0305,  0.2734])\n"
     ]
    },
    {
     "ename": "RuntimeError",
     "evalue": "invalid multinomial distribution (encountering probability entry < 0)",
     "output_type": "error",
     "traceback": [
      "\u001b[1;31m---------------------------------------------------------------------------\u001b[0m",
      "\u001b[1;31mRuntimeError\u001b[0m                              Traceback (most recent call last)",
      "\u001b[1;32m<ipython-input-21-e1517378290a>\u001b[0m in \u001b[0;36m<module>\u001b[1;34m\u001b[0m\n\u001b[0;32m      5\u001b[0m   \u001b[0mep_reward\u001b[0m \u001b[1;33m=\u001b[0m \u001b[1;36m0\u001b[0m\u001b[1;33m\u001b[0m\u001b[1;33m\u001b[0m\u001b[0m\n\u001b[0;32m      6\u001b[0m   \u001b[1;32mfor\u001b[0m \u001b[0mt\u001b[0m \u001b[1;32min\u001b[0m \u001b[0mrange\u001b[0m\u001b[1;33m(\u001b[0m\u001b[1;36m1000\u001b[0m\u001b[1;33m)\u001b[0m\u001b[1;33m:\u001b[0m\u001b[1;33m\u001b[0m\u001b[1;33m\u001b[0m\u001b[0m\n\u001b[1;32m----> 7\u001b[1;33m     \u001b[0maction\u001b[0m \u001b[1;33m=\u001b[0m \u001b[0mselect_action2\u001b[0m\u001b[1;33m(\u001b[0m\u001b[0mstate\u001b[0m\u001b[1;33m)\u001b[0m\u001b[1;33m\u001b[0m\u001b[1;33m\u001b[0m\u001b[0m\n\u001b[0m\u001b[0;32m      8\u001b[0m \u001b[1;33m\u001b[0m\u001b[0m\n\u001b[0;32m      9\u001b[0m     \u001b[0mnew_state\u001b[0m\u001b[1;33m,\u001b[0m \u001b[0mreward\u001b[0m\u001b[1;33m,\u001b[0m \u001b[0mdone\u001b[0m\u001b[1;33m,\u001b[0m \u001b[0m_\u001b[0m \u001b[1;33m=\u001b[0m \u001b[0menv\u001b[0m\u001b[1;33m.\u001b[0m\u001b[0mstep\u001b[0m\u001b[1;33m(\u001b[0m\u001b[0maction\u001b[0m\u001b[1;33m)\u001b[0m\u001b[1;33m\u001b[0m\u001b[1;33m\u001b[0m\u001b[0m\n",
      "\u001b[1;32m<ipython-input-15-c875155297a6>\u001b[0m in \u001b[0;36mselect_action2\u001b[1;34m(state)\u001b[0m\n\u001b[0;32m      8\u001b[0m \u001b[1;33m\u001b[0m\u001b[0m\n\u001b[0;32m      9\u001b[0m     \u001b[1;31m# and sample an action using the distribution\u001b[0m\u001b[1;33m\u001b[0m\u001b[1;33m\u001b[0m\u001b[1;33m\u001b[0m\u001b[0m\n\u001b[1;32m---> 10\u001b[1;33m     \u001b[0maction\u001b[0m \u001b[1;33m=\u001b[0m \u001b[0mm\u001b[0m\u001b[1;33m.\u001b[0m\u001b[0msample\u001b[0m\u001b[1;33m(\u001b[0m\u001b[1;33m)\u001b[0m\u001b[1;33m\u001b[0m\u001b[1;33m\u001b[0m\u001b[0m\n\u001b[0m\u001b[0;32m     11\u001b[0m \u001b[1;33m\u001b[0m\u001b[0m\n\u001b[0;32m     12\u001b[0m     \u001b[1;31m# save to action buffer\u001b[0m\u001b[1;33m\u001b[0m\u001b[1;33m\u001b[0m\u001b[1;33m\u001b[0m\u001b[0m\n",
      "\u001b[1;32m~\\anaconda3\\lib\\site-packages\\torch\\distributions\\categorical.py\u001b[0m in \u001b[0;36msample\u001b[1;34m(self, sample_shape)\u001b[0m\n\u001b[0;32m    104\u001b[0m             \u001b[0msample_shape\u001b[0m \u001b[1;33m=\u001b[0m \u001b[0mtorch\u001b[0m\u001b[1;33m.\u001b[0m\u001b[0mSize\u001b[0m\u001b[1;33m(\u001b[0m\u001b[0msample_shape\u001b[0m\u001b[1;33m)\u001b[0m\u001b[1;33m\u001b[0m\u001b[1;33m\u001b[0m\u001b[0m\n\u001b[0;32m    105\u001b[0m         \u001b[0mprobs_2d\u001b[0m \u001b[1;33m=\u001b[0m \u001b[0mself\u001b[0m\u001b[1;33m.\u001b[0m\u001b[0mprobs\u001b[0m\u001b[1;33m.\u001b[0m\u001b[0mreshape\u001b[0m\u001b[1;33m(\u001b[0m\u001b[1;33m-\u001b[0m\u001b[1;36m1\u001b[0m\u001b[1;33m,\u001b[0m \u001b[0mself\u001b[0m\u001b[1;33m.\u001b[0m\u001b[0m_num_events\u001b[0m\u001b[1;33m)\u001b[0m\u001b[1;33m\u001b[0m\u001b[1;33m\u001b[0m\u001b[0m\n\u001b[1;32m--> 106\u001b[1;33m         \u001b[0msamples_2d\u001b[0m \u001b[1;33m=\u001b[0m \u001b[0mtorch\u001b[0m\u001b[1;33m.\u001b[0m\u001b[0mmultinomial\u001b[0m\u001b[1;33m(\u001b[0m\u001b[0mprobs_2d\u001b[0m\u001b[1;33m,\u001b[0m \u001b[0msample_shape\u001b[0m\u001b[1;33m.\u001b[0m\u001b[0mnumel\u001b[0m\u001b[1;33m(\u001b[0m\u001b[1;33m)\u001b[0m\u001b[1;33m,\u001b[0m \u001b[1;32mTrue\u001b[0m\u001b[1;33m)\u001b[0m\u001b[1;33m.\u001b[0m\u001b[0mT\u001b[0m\u001b[1;33m\u001b[0m\u001b[1;33m\u001b[0m\u001b[0m\n\u001b[0m\u001b[0;32m    107\u001b[0m         \u001b[1;32mreturn\u001b[0m \u001b[0msamples_2d\u001b[0m\u001b[1;33m.\u001b[0m\u001b[0mreshape\u001b[0m\u001b[1;33m(\u001b[0m\u001b[0mself\u001b[0m\u001b[1;33m.\u001b[0m\u001b[0m_extended_shape\u001b[0m\u001b[1;33m(\u001b[0m\u001b[0msample_shape\u001b[0m\u001b[1;33m)\u001b[0m\u001b[1;33m)\u001b[0m\u001b[1;33m\u001b[0m\u001b[1;33m\u001b[0m\u001b[0m\n\u001b[0;32m    108\u001b[0m \u001b[1;33m\u001b[0m\u001b[0m\n",
      "\u001b[1;31mRuntimeError\u001b[0m: invalid multinomial distribution (encountering probability entry < 0)"
     ]
    }
   ],
   "source": [
    "running_reward = 10\r\n",
    "for i in range(10):\r\n",
    "\r\n",
    "  state = env.reset()\r\n",
    "  ep_reward = 0\r\n",
    "  for t in range(1000):\r\n",
    "    action = select_action2(state)\r\n",
    "\r\n",
    "    new_state, reward, done, _ = env.step(action)\r\n",
    "\r\n",
    "    model.rewards.append(reward)\r\n",
    "    running_reward = 0.05 * ep_reward + (1 - 0.05) * running_reward\r\n",
    "    finish_episode()\r\n",
    "\r\n",
    "    print('Episode {}\\tLast reward: {:.2f}\\tAverage reward: {:.2f}'.format(\r\n",
    "                i, ep_reward, running_reward))\r\n",
    "\r\n",
    "    state = new_state"
   ]
  },
  {
   "cell_type": "code",
   "execution_count": null,
   "metadata": {
    "id": "aZZBcM5Q6IB_"
   },
   "outputs": [],
   "source": [
    "env.reset()"
   ]
  },
  {
   "cell_type": "code",
   "execution_count": 225,
   "metadata": {
    "id": "kfTL89sj_XJK"
   },
   "outputs": [],
   "source": [
    "def main():\r\n",
    "    running_reward = 10\r\n",
    "\r\n",
    "    # run inifinitely many episodes\r\n",
    "    for i_episode in range(10):\r\n",
    "\r\n",
    "        # reset environment and episode reward\r\n",
    "        state = env.reset()\r\n",
    "        ep_reward = 0\r\n",
    "\r\n",
    "        # for each episode, only run 9999 steps so that we don't \r\n",
    "        # infinite loop while learning\r\n",
    "        for t in range(1, 10000):\r\n",
    "\r\n",
    "            # select action from policy\r\n",
    "            action = select_action(state)\r\n",
    "\r\n",
    "            # take the action\r\n",
    "            state, reward, done, _ = env.step(action)\r\n",
    "\r\n",
    "            #if args.render:\r\n",
    "            #env.render()\r\n",
    "\r\n",
    "            model.rewards.append(reward)\r\n",
    "            ep_reward += reward\r\n",
    "            if done:\r\n",
    "                break\r\n",
    "\r\n",
    "        # update cumulative reward\r\n",
    "        running_reward = 0.05 * ep_reward + (1 - 0.05) * running_reward\r\n",
    "\r\n",
    "        # perform backprop\r\n",
    "        finish_episode()\r\n",
    "\r\n",
    "        # log results\r\n",
    "        if i_episode % log_interval == 0:\r\n",
    "            print('Episode {}\\tLast reward: {:.2f}\\tAverage reward: {:.2f}'.format(\r\n",
    "                  i_episode, ep_reward, running_reward))\r\n",
    "\r\n",
    "        # check if we have \"solved\" the cart pole problem\r\n",
    "        if running_reward > env.spec.reward_threshold:\r\n",
    "            print(\"Solved! Running reward is now {} and \"\r\n",
    "                  \"the last episode runs to {} time steps!\".format(running_reward, t))\r\n",
    "            break"
   ]
  },
  {
   "cell_type": "code",
   "execution_count": 226,
   "metadata": {
    "colab": {
     "base_uri": "https://localhost:8080/",
     "height": 606
    },
    "id": "PB0mCDMFGBgx",
    "outputId": "afcdfd0e-9bed-452d-9f07-d5df06442599"
   },
   "outputs": [
    {
     "name": "stdout",
     "output_type": "stream",
     "text": [
      "tensor([-0.0337, -0.0285, -0.0118, -0.0166])\n"
     ]
    },
    {
     "ename": "RuntimeError",
     "evalue": "ignored",
     "output_type": "error",
     "traceback": [
      "\u001b[0;31m---------------------------------------------------------------------------\u001b[0m",
      "\u001b[0;31mRuntimeError\u001b[0m                              Traceback (most recent call last)",
      "\u001b[0;32m<ipython-input-226-c7bc734e5e35>\u001b[0m in \u001b[0;36m<module>\u001b[0;34m()\u001b[0m\n\u001b[1;32m      1\u001b[0m \u001b[0;32mif\u001b[0m \u001b[0m__name__\u001b[0m \u001b[0;34m==\u001b[0m \u001b[0;34m'__main__'\u001b[0m\u001b[0;34m:\u001b[0m\u001b[0;34m\u001b[0m\u001b[0;34m\u001b[0m\u001b[0m\n\u001b[0;32m----> 2\u001b[0;31m     \u001b[0mmain\u001b[0m\u001b[0;34m(\u001b[0m\u001b[0;34m)\u001b[0m\u001b[0;34m\u001b[0m\u001b[0;34m\u001b[0m\u001b[0m\n\u001b[0m",
      "\u001b[0;32m<ipython-input-225-a6ef8ee28521>\u001b[0m in \u001b[0;36mmain\u001b[0;34m()\u001b[0m\n\u001b[1;32m     14\u001b[0m \u001b[0;34m\u001b[0m\u001b[0m\n\u001b[1;32m     15\u001b[0m             \u001b[0;31m# select action from policy\u001b[0m\u001b[0;34m\u001b[0m\u001b[0;34m\u001b[0m\u001b[0;34m\u001b[0m\u001b[0m\n\u001b[0;32m---> 16\u001b[0;31m             \u001b[0maction\u001b[0m \u001b[0;34m=\u001b[0m \u001b[0mselect_action\u001b[0m\u001b[0;34m(\u001b[0m\u001b[0mstate\u001b[0m\u001b[0;34m)\u001b[0m\u001b[0;34m\u001b[0m\u001b[0;34m\u001b[0m\u001b[0m\n\u001b[0m\u001b[1;32m     17\u001b[0m \u001b[0;34m\u001b[0m\u001b[0m\n\u001b[1;32m     18\u001b[0m             \u001b[0;31m# take the action\u001b[0m\u001b[0;34m\u001b[0m\u001b[0;34m\u001b[0m\u001b[0;34m\u001b[0m\u001b[0m\n",
      "\u001b[0;32m<ipython-input-218-9e50765cb249>\u001b[0m in \u001b[0;36mselect_action\u001b[0;34m(state)\u001b[0m\n\u001b[1;32m      8\u001b[0m   \u001b[0mm\u001b[0m \u001b[0;34m=\u001b[0m \u001b[0mCategorical\u001b[0m\u001b[0;34m(\u001b[0m\u001b[0mprobs\u001b[0m\u001b[0;34m)\u001b[0m\u001b[0;34m\u001b[0m\u001b[0;34m\u001b[0m\u001b[0m\n\u001b[1;32m      9\u001b[0m   \u001b[0;31m#print(m)\u001b[0m\u001b[0;34m\u001b[0m\u001b[0;34m\u001b[0m\u001b[0;34m\u001b[0m\u001b[0m\n\u001b[0;32m---> 10\u001b[0;31m   \u001b[0maction\u001b[0m \u001b[0;34m=\u001b[0m \u001b[0mm\u001b[0m\u001b[0;34m.\u001b[0m\u001b[0msample\u001b[0m\u001b[0;34m(\u001b[0m\u001b[0;34m)\u001b[0m\u001b[0;34m\u001b[0m\u001b[0;34m\u001b[0m\u001b[0m\n\u001b[0m\u001b[1;32m     11\u001b[0m   \u001b[0mmodel\u001b[0m\u001b[0;34m.\u001b[0m\u001b[0msaved_actions\u001b[0m\u001b[0;34m.\u001b[0m\u001b[0mappend\u001b[0m\u001b[0;34m(\u001b[0m\u001b[0mSavedAction\u001b[0m\u001b[0;34m(\u001b[0m\u001b[0mm\u001b[0m\u001b[0;34m.\u001b[0m\u001b[0mlog_prob\u001b[0m\u001b[0;34m(\u001b[0m\u001b[0maction\u001b[0m\u001b[0;34m)\u001b[0m\u001b[0;34m,\u001b[0m \u001b[0mstate_value\u001b[0m\u001b[0;34m)\u001b[0m\u001b[0;34m)\u001b[0m\u001b[0;34m\u001b[0m\u001b[0;34m\u001b[0m\u001b[0m\n\u001b[1;32m     12\u001b[0m   \u001b[0;32mreturn\u001b[0m \u001b[0maction\u001b[0m\u001b[0;34m.\u001b[0m\u001b[0mitem\u001b[0m\u001b[0;34m(\u001b[0m\u001b[0;34m)\u001b[0m\u001b[0;34m\u001b[0m\u001b[0;34m\u001b[0m\u001b[0m\n",
      "\u001b[0;32m/usr/local/lib/python3.6/dist-packages/torch/distributions/categorical.py\u001b[0m in \u001b[0;36msample\u001b[0;34m(self, sample_shape)\u001b[0m\n\u001b[1;32m    105\u001b[0m             \u001b[0msample_shape\u001b[0m \u001b[0;34m=\u001b[0m \u001b[0mtorch\u001b[0m\u001b[0;34m.\u001b[0m\u001b[0mSize\u001b[0m\u001b[0;34m(\u001b[0m\u001b[0msample_shape\u001b[0m\u001b[0;34m)\u001b[0m\u001b[0;34m\u001b[0m\u001b[0;34m\u001b[0m\u001b[0m\n\u001b[1;32m    106\u001b[0m         \u001b[0mprobs_2d\u001b[0m \u001b[0;34m=\u001b[0m \u001b[0mself\u001b[0m\u001b[0;34m.\u001b[0m\u001b[0mprobs\u001b[0m\u001b[0;34m.\u001b[0m\u001b[0mreshape\u001b[0m\u001b[0;34m(\u001b[0m\u001b[0;34m-\u001b[0m\u001b[0;36m1\u001b[0m\u001b[0;34m,\u001b[0m \u001b[0mself\u001b[0m\u001b[0;34m.\u001b[0m\u001b[0m_num_events\u001b[0m\u001b[0;34m)\u001b[0m\u001b[0;34m\u001b[0m\u001b[0;34m\u001b[0m\u001b[0m\n\u001b[0;32m--> 107\u001b[0;31m         \u001b[0msamples_2d\u001b[0m \u001b[0;34m=\u001b[0m \u001b[0mtorch\u001b[0m\u001b[0;34m.\u001b[0m\u001b[0mmultinomial\u001b[0m\u001b[0;34m(\u001b[0m\u001b[0mprobs_2d\u001b[0m\u001b[0;34m,\u001b[0m \u001b[0msample_shape\u001b[0m\u001b[0;34m.\u001b[0m\u001b[0mnumel\u001b[0m\u001b[0;34m(\u001b[0m\u001b[0;34m)\u001b[0m\u001b[0;34m,\u001b[0m \u001b[0;32mTrue\u001b[0m\u001b[0;34m)\u001b[0m\u001b[0;34m.\u001b[0m\u001b[0mT\u001b[0m\u001b[0;34m\u001b[0m\u001b[0;34m\u001b[0m\u001b[0m\n\u001b[0m\u001b[1;32m    108\u001b[0m         \u001b[0;32mreturn\u001b[0m \u001b[0msamples_2d\u001b[0m\u001b[0;34m.\u001b[0m\u001b[0mreshape\u001b[0m\u001b[0;34m(\u001b[0m\u001b[0mself\u001b[0m\u001b[0;34m.\u001b[0m\u001b[0m_extended_shape\u001b[0m\u001b[0;34m(\u001b[0m\u001b[0msample_shape\u001b[0m\u001b[0;34m)\u001b[0m\u001b[0;34m)\u001b[0m\u001b[0;34m\u001b[0m\u001b[0;34m\u001b[0m\u001b[0m\n\u001b[1;32m    109\u001b[0m \u001b[0;34m\u001b[0m\u001b[0m\n",
      "\u001b[0;31mRuntimeError\u001b[0m: invalid multinomial distribution (encountering probability entry < 0)"
     ]
    }
   ],
   "source": [
    "if __name__ == '__main__':\r\n",
    "    main()"
   ]
  },
  {
   "cell_type": "code",
   "execution_count": null,
   "metadata": {
    "id": "NM9dza0EGDUG"
   },
   "outputs": [],
   "source": []
  }
 ],
 "metadata": {
  "colab": {
   "collapsed_sections": [],
   "name": "TensorFlow_Reinforcement_Learning.ipynb",
   "provenance": []
  },
  "kernelspec": {
   "display_name": "Python 3",
   "language": "python",
   "name": "python3"
  },
  "language_info": {
   "codemirror_mode": {
    "name": "ipython",
    "version": 3
   },
   "file_extension": ".py",
   "mimetype": "text/x-python",
   "name": "python",
   "nbconvert_exporter": "python",
   "pygments_lexer": "ipython3",
   "version": "3.7.6"
  }
 },
 "nbformat": 4,
 "nbformat_minor": 4
}
